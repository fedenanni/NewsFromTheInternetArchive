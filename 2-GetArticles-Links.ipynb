{
 "cells": [
  {
   "cell_type": "code",
   "execution_count": null,
   "metadata": {},
   "outputs": [],
   "source": [
    "import urllib.request\n",
    "import json, codecs,time,os\n",
    "from bs4 import BeautifulSoup\n",
    "from collections import Counter\n",
    "\n",
    "# the name of the website as it appears in the URL, for example nytimes, guardian, lastampa\n",
    "website_name = \"nytimes\"\n",
    "\n",
    "# the precise homepage, from which you want to collect news (this step is needed as sometimes it could point to a subdomain, e.g. theguardian.com/uk)\n",
    "url_website = \"nytimes.com\"\n",
    "\n",
    "homepages = codecs.open(website_name+\"_homepages.txt\", \"r\", \"utf-8\").read().strip().split(\"\\n\")\n",
    "articles_link = codecs.open(website_name+\"_articles.txt\", \"w\", \"utf-8\")\n",
    "\n",
    "articles =  []\n",
    "\n",
    "# you loop over the list of homepages\n",
    "for i in range(len(homepages)):\n",
    "    homepage = homepages[i]\n",
    "    try:\n",
    "        # you request the page from the Internet Archive\n",
    "        url_open = urllib.request.urlopen(homepage)\n",
    "        soup = BeautifulSoup(url_open, \"lxml\")\n",
    "        \n",
    "        # now we extract all the html links\n",
    "        for link in soup.find_all('a', href=True):\n",
    "            \n",
    "            lk = link['href']\n",
    "            true_url = \"/\".join(lk.split(\"/\")[5:]).replace(\"https://\",\"\").replace(\"http://\",\"\")\n",
    "            \n",
    "            # we check if these are internal links (not linking to other websites)\n",
    "            if website_name in lk and true_url not in set(articles):\n",
    "                articles.append(true_url)\n",
    "                \n",
    "                # and we save it!\n",
    "                \n",
    "                if \"http://web.archive.org\" in lk:\n",
    "                    articles_link.write(lk+\"\\n\")\n",
    "                else:\n",
    "                    articles_link.write( \"http://web.archive.org\"+lk+\"\\n\")\n",
    "\n",
    "    \n",
    "        print (i+1, \" homepages processed over \", len(homepages), \", \",len(articles),\" articles collected\")\n",
    "        \n",
    "    except Exception as e:\n",
    "        print (e)\n",
    "        time.sleep(1)\n",
    "        pass\n",
    "            \n",
    "\n",
    "articles_link.close()"
   ]
  },
  {
   "cell_type": "code",
   "execution_count": null,
   "metadata": {},
   "outputs": [],
   "source": []
  }
 ],
 "metadata": {
  "kernelspec": {
   "display_name": "Python 3",
   "language": "python",
   "name": "python3"
  },
  "language_info": {
   "codemirror_mode": {
    "name": "ipython",
    "version": 3
   },
   "file_extension": ".py",
   "mimetype": "text/x-python",
   "name": "python",
   "nbconvert_exporter": "python",
   "pygments_lexer": "ipython3",
   "version": "3.6.3"
  }
 },
 "nbformat": 4,
 "nbformat_minor": 2
}
