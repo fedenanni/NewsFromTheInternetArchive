{
 "cells": [
  {
   "cell_type": "code",
   "execution_count": 3,
   "metadata": {},
   "outputs": [
    {
     "name": "stdout",
     "output_type": "stream",
     "text": [
      "1  homepages processed over  30 ,  233  articles collected\n",
      "2  homepages processed over  30 ,  327  articles collected\n",
      "3  homepages processed over  30 ,  415  articles collected\n",
      "4  homepages processed over  30 ,  528  articles collected\n",
      "5  homepages processed over  30 ,  614  articles collected\n",
      "6  homepages processed over  30 ,  684  articles collected\n",
      "7  homepages processed over  30 ,  737  articles collected\n",
      "8  homepages processed over  30 ,  830  articles collected\n",
      "9  homepages processed over  30 ,  913  articles collected\n",
      "10  homepages processed over  30 ,  1014  articles collected\n",
      "11  homepages processed over  30 ,  1105  articles collected\n",
      "12  homepages processed over  30 ,  1205  articles collected\n",
      "13  homepages processed over  30 ,  1263  articles collected\n",
      "14  homepages processed over  30 ,  1312  articles collected\n",
      "15  homepages processed over  30 ,  1391  articles collected\n",
      "16  homepages processed over  30 ,  1482  articles collected\n",
      "17  homepages processed over  30 ,  1567  articles collected\n",
      "18  homepages processed over  30 ,  1662  articles collected\n",
      "19  homepages processed over  30 ,  1756  articles collected\n",
      "20  homepages processed over  30 ,  1816  articles collected\n",
      "21  homepages processed over  30 ,  1868  articles collected\n",
      "22  homepages processed over  30 ,  1960  articles collected\n",
      "23  homepages processed over  30 ,  2039  articles collected\n",
      "24  homepages processed over  30 ,  2135  articles collected\n",
      "25  homepages processed over  30 ,  2194  articles collected\n",
      "26  homepages processed over  30 ,  2249  articles collected\n",
      "27  homepages processed over  30 ,  2312  articles collected\n",
      "28  homepages processed over  30 ,  2353  articles collected\n",
      "29  homepages processed over  30 ,  2434  articles collected\n",
      "30  homepages processed over  30 ,  2527  articles collected\n"
     ]
    },
    {
     "ename": "NameError",
     "evalue": "name 'output' is not defined",
     "output_type": "error",
     "traceback": [
      "\u001b[0;31m---------------------------------------------------------------------------\u001b[0m",
      "\u001b[0;31mNameError\u001b[0m                                 Traceback (most recent call last)",
      "\u001b[0;32m<ipython-input-3-29aa85c3e7c9>\u001b[0m in \u001b[0;36m<module>\u001b[0;34m()\u001b[0m\n\u001b[1;32m     39\u001b[0m \u001b[0;34m\u001b[0m\u001b[0m\n\u001b[1;32m     40\u001b[0m \u001b[0;34m\u001b[0m\u001b[0m\n\u001b[0;32m---> 41\u001b[0;31m \u001b[0moutput\u001b[0m\u001b[0;34m.\u001b[0m\u001b[0mclose\u001b[0m\u001b[0;34m(\u001b[0m\u001b[0;34m)\u001b[0m\u001b[0;34m\u001b[0m\u001b[0m\n\u001b[0m",
      "\u001b[0;31mNameError\u001b[0m: name 'output' is not defined"
     ]
    }
   ],
   "source": [
    "import urllib.request\n",
    "import json, codecs,time,os\n",
    "from bs4 import BeautifulSoup\n",
    "from collections import Counter\n",
    "\n",
    "# the name of the website as it appears in the URL, for example nytimes, guardian, lastampa\n",
    "website_name = \"nytimes\"\n",
    "\n",
    "# the precise homepage, from which you want to collect news (this step is needed as sometimes it could point to a subdomain, e.g. theguardian.com/uk)\n",
    "url_website = \"nytimes.com\"\n",
    "\n",
    "homepages = codecs.open(website_name+\"_homepages.txt\", \"r\", \"utf-8\").read().strip().split(\"\\n\")\n",
    "articles_link = codecs.open(website_name+\"_articles.txt\", \"w\", \"utf-8\")\n",
    "\n",
    "articles =  []\n",
    "\n",
    "# you loop over the list of homepages\n",
    "for i in range(len(homepages)):\n",
    "    homepage = homepages[i]\n",
    "    try:\n",
    "        # you request the page from the Internet Archive\n",
    "        url_open = urllib.request.urlopen(homepage)\n",
    "        soup = BeautifulSoup(url_open, \"lxml\")\n",
    "        \n",
    "        # now we extract all the html links\n",
    "        for link in soup.find_all('a', href=True):\n",
    "            \n",
    "            lk = link['href']\n",
    "            true_url = \"/\".join(lk.split(\"/\")[5:]).replace(\"https://\",\"\").replace(\"http://\",\"\")\n",
    "            \n",
    "            # we check if these are internal links (not linking to other websites)\n",
    "            if website_name in lk and true_url not in set(articles):\n",
    "                articles.append(true_url)\n",
    "                \n",
    "                # and we save it!\n",
    "                \n",
    "                if \"http://web.archive.org\" in lk:\n",
    "                    articles_link.write(lk+\"\\n\")\n",
    "                else:\n",
    "                    articles_link.write( \"http://web.archive.org\"+lk+\"\\n\")\n",
    "\n",
    "    \n",
    "        print (i+1, \" homepages processed over \", len(homepages), \", \",len(articles),\" articles collected\")\n",
    "        \n",
    "    except Exception as e:\n",
    "        print (e)\n",
    "        time.sleep(1)\n",
    "        pass\n",
    "            \n",
    "\n",
    "articles_link.close()"
   ]
  },
  {
   "cell_type": "code",
   "execution_count": null,
   "metadata": {},
   "outputs": [],
   "source": []
  }
 ],
 "metadata": {
  "kernelspec": {
   "display_name": "Python 3",
   "language": "python",
   "name": "python3"
  },
  "language_info": {
   "codemirror_mode": {
    "name": "ipython",
    "version": 3
   },
   "file_extension": ".py",
   "mimetype": "text/x-python",
   "name": "python",
   "nbconvert_exporter": "python",
   "pygments_lexer": "ipython3",
   "version": "3.6.3"
  }
 },
 "nbformat": 4,
 "nbformat_minor": 2
}
