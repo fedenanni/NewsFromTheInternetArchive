{
 "cells": [
  {
   "cell_type": "code",
   "execution_count": null,
   "metadata": {},
   "outputs": [],
   "source": [
    "# the first part of this script collects the homepages from the internet archive and save them in a .txt\n",
    "\n",
    "import urllib.request\n",
    "import json, codecs,time\n",
    "from bs4 import BeautifulSoup\n",
    "from collections import Counter\n",
    "\n",
    "\n",
    "# the name of the website as it appears in the URL, for example nytimes, guardian, lastampa\n",
    "website_name = \"nytimes\"\n",
    "\n",
    "# the precise homepage, from which you want to collect news (this step is needed as sometimes it could point to a subdomain, e.g. theguardian.com/uk)\n",
    "url_website = \"nytimes.com\"\n",
    "\n",
    "yearmonth = \"201611\"\n",
    "yearmonth_to = \"201611\""
   ]
  },
  {
   "cell_type": "code",
   "execution_count": null,
   "metadata": {},
   "outputs": [],
   "source": [
    "# here you define your query for the IA API\n",
    "url = \"http://web.archive.org/cdx/search/cdx?url=\"+url_website+\"&matchType=url&collapse=timestamp:8&limit=15000&filter=!mimetype:image/gif&filter=!mimetype:image/jpeg&from=\"+ yearmonth + \"&to=\"+ yearmonth_to +\"&output=json\"\n",
    "\n",
    "# we send the query\n",
    "http = urllib.request.urlopen(url)\n",
    "soup = http.read()                            \n",
    "http.close() \n",
    "\n",
    "# we get the results\n",
    "ia_results = json.loads(soup)\n",
    "\n",
    "# we check if we collected a single homepage everyday\n",
    "collected_dates = {}\n",
    "\n",
    "homepages = []\n",
    "\n",
    "for i in range(1, len(ia_results)):\n",
    "    element = ia_results[i]\n",
    "    date = element[1][:8]\n",
    "    if date not in collected_dates:\n",
    "        collected_dates[date] = \"\"\n",
    "        homepages.append(\"http://web.archive.org/web/\" + element[1] + \"/\" + element[2])\n",
    "print (len(homepages))\n",
    "\n",
    "output = codecs.open(website_name+\"_homepages.txt\", \"w\", \"utf-8\")\n",
    "\n",
    "for element in homepages:\n",
    "    output.write(element + \"\\n\")\n",
    "    \n",
    "output.close()"
   ]
  },
  {
   "cell_type": "code",
   "execution_count": null,
   "metadata": {},
   "outputs": [],
   "source": []
  },
  {
   "cell_type": "code",
   "execution_count": null,
   "metadata": {},
   "outputs": [],
   "source": [
    "    "
   ]
  },
  {
   "cell_type": "code",
   "execution_count": null,
   "metadata": {},
   "outputs": [],
   "source": []
  },
  {
   "cell_type": "code",
   "execution_count": null,
   "metadata": {},
   "outputs": [],
   "source": []
  },
  {
   "cell_type": "code",
   "execution_count": null,
   "metadata": {},
   "outputs": [],
   "source": []
  },
  {
   "cell_type": "code",
   "execution_count": null,
   "metadata": {},
   "outputs": [],
   "source": []
  },
  {
   "cell_type": "code",
   "execution_count": null,
   "metadata": {},
   "outputs": [],
   "source": []
  },
  {
   "cell_type": "code",
   "execution_count": null,
   "metadata": {},
   "outputs": [],
   "source": []
  }
 ],
 "metadata": {
  "kernelspec": {
   "display_name": "Python 3",
   "language": "python",
   "name": "python3"
  },
  "language_info": {
   "codemirror_mode": {
    "name": "ipython",
    "version": 3
   },
   "file_extension": ".py",
   "mimetype": "text/x-python",
   "name": "python",
   "nbconvert_exporter": "python",
   "pygments_lexer": "ipython3",
   "version": "3.6.3"
  }
 },
 "nbformat": 4,
 "nbformat_minor": 2
}
