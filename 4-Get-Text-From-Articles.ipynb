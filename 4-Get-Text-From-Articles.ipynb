{
 "cells": [
  {
   "cell_type": "code",
   "execution_count": null,
   "metadata": {},
   "outputs": [],
   "source": [
    "import urllib.request\n",
    "import json, codecs,time,os\n",
    "from bs4 import BeautifulSoup\n",
    "from collections import Counter\n",
    "\n",
    "# the name of the website as it appears in the URL, for example nytimes, guardian, lastampa\n",
    "website_name = \"nytimes\"\n",
    "\n",
    "# the precise homepage, from which you want to collect news (this step is needed as sometimes it could point to a subdomain, e.g. theguardian.com/uk)\n",
    "url_website = \"nytimes.com\"\n",
    "\n",
    "folder = \"Article-Repo/\"+website_name+\"/\"\n",
    "\n",
    "metadata = codecs.open(website_name+\"_articles.txt\", \"r\", \"utf-8\").read().strip().split(\"\\n\")\n",
    "\n",
    "articles = {x:metadata[int(x.split(\".html\")[0])] for x in os.listdir(folder) if \".html\" in x}\n",
    "\n",
    "\n",
    "print (len(articles))"
   ]
  },
  {
   "cell_type": "code",
   "execution_count": null,
   "metadata": {},
   "outputs": [],
   "source": [
    "output = codecs.open(website_name+\"_content-articles.tsv\",\"w\",\"utf-8\")\n",
    "\n",
    "i = 0\n",
    "\n",
    "for article_html,article_link in articles.items():\n",
    "    \n",
    "    html = codecs.open(folder+article_html,\"r\",\"utf-8\").read()\n",
    "                \n",
    "    soup = BeautifulSoup(html, \"lxml\")\n",
    "        \n",
    "    try:\n",
    "            i = i+1\n",
    "            title= \" \".join(soup.find('h1').text.split())\n",
    "            \n",
    "            date = article_link.split(\"/\")[4][:8]\n",
    "            \n",
    "            text = \"\"\n",
    "            \n",
    "            #ugly step - i'll improve it \n",
    "            soup = str(soup).split(\"<!-- END WAYBACK TOOLBAR INSERT -->\")[1]\n",
    "            \n",
    "            soup = BeautifulSoup(soup, \"lxml\")\n",
    "           \n",
    "            # simply take all the paragraphs\n",
    "            for link in soup.find_all('p'):\n",
    "                text+= link.text.replace(\"\\n\",\"\").replace(\"\\r\",\"\").replace(\"\\t\",\"\") + \" \"\n",
    "            \n",
    "            # yea i know - i'm kinda lazy at the moment\n",
    "            if len(text)>1:\n",
    "                output.write(article_link +\"\\t\"+date +\"\\t\"+title+\"\\t\"+ text+\"\\n\")\n",
    "            if (i % 10) == 0:\n",
    "                print (i+1, \" articles processed over \", len(articles))\n",
    "                #time.sleep(1)\n",
    "            \n",
    "            \n",
    "    except Exception as e:\n",
    "        #print (e,i,article_link)\n",
    "        pass\n",
    "\n",
    "output.close()            \n"
   ]
  }
 ],
 "metadata": {
  "kernelspec": {
   "display_name": "Python 3",
   "language": "python",
   "name": "python3"
  },
  "language_info": {
   "codemirror_mode": {
    "name": "ipython",
    "version": 3
   },
   "file_extension": ".py",
   "mimetype": "text/x-python",
   "name": "python",
   "nbconvert_exporter": "python",
   "pygments_lexer": "ipython3",
   "version": "3.6.3"
  }
 },
 "nbformat": 4,
 "nbformat_minor": 2
}
